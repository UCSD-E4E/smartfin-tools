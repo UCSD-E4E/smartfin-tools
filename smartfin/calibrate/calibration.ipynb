{
 "cells": [
  {
   "cell_type": "code",
   "execution_count": 10,
   "metadata": {},
   "outputs": [],
   "source": [
    "import pandas as pd\n",
    "import numpy as np"
   ]
  },
  {
   "cell_type": "code",
   "execution_count": 11,
   "metadata": {},
   "outputs": [],
   "source": [
    "import logging\n",
    "logging_fmt = '%(asctime)s:%(name)s:%(levelname)s:%(message)s'\n",
    "logging.basicConfig(level=logging.INFO, format=logging_fmt)"
   ]
  },
  {
   "cell_type": "code",
   "execution_count": 12,
   "metadata": {},
   "outputs": [],
   "source": [
    "import matplotlib.pyplot as plt"
   ]
  },
  {
   "cell_type": "code",
   "execution_count": 13,
   "metadata": {},
   "outputs": [],
   "source": [
    "from calibrate_util import *\n",
    "\n",
    "cal_vecs = {}"
   ]
  },
  {
   "cell_type": "code",
   "execution_count": 14,
   "metadata": {},
   "outputs": [],
   "source": [
    "def cal_axis(port_p, axis_name, cols, vec_dict):\n",
    "    df = data_input_main(port_p, None, period=10)\n",
    "    df_cols = df.loc[:,cols]\n",
    "    vec_dict[axis_name] = np.asarray(df_cols.mean())"
   ]
  },
  {
   "cell_type": "code",
   "execution_count": 53,
   "metadata": {},
   "outputs": [
    {
     "name": "stderr",
     "output_type": "stream",
     "text": [
      "2022-07-26 10:29:02,653:root:INFO:Starting thread 1\n",
      "2022-07-26 10:29:08,957:root:INFO:1658856548.95763\n",
      "2022-07-26 10:29:18,985:root:INFO:Exiting thread 1\n",
      "2022-07-26 10:29:19,042:root:INFO:Closing threads\n",
      "2022-07-26 10:29:19,063:root:INFO:Threads successfully closed\n"
     ]
    }
   ],
   "source": [
    "cal_axis(\"/dev/tty.usbmodem141201\", \"+y\", [\"xAcc\", \"yAcc\", \"zAcc\"], )"
   ]
  },
  {
   "cell_type": "code",
   "execution_count": 64,
   "metadata": {},
   "outputs": [
    {
     "data": {
      "text/plain": [
       "{'+z': array([ 0.01856622, -0.0116973 ,  0.99432365]),\n",
       " '-z': array([-0.03777517,  0.01634295, -1.01690067]),\n",
       " '+x': array([ 0.99453987,  0.00569051, -0.02933165]),\n",
       " '-x': array([-1.00537417,  0.0015404 , -0.03978742]),\n",
       " '-y': array([-0.00619732, -1.00584027, -0.01612081]),\n",
       " '+y': array([-0.00161879,  0.99356309, -0.00426846])}"
      ]
     },
     "execution_count": 64,
     "metadata": {},
     "output_type": "execute_result"
    }
   ],
   "source": [
    "cal_vecs"
   ]
  },
  {
   "cell_type": "code",
   "execution_count": 26,
   "metadata": {},
   "outputs": [],
   "source": [
    "from sklearn import linear_model"
   ]
  },
  {
   "cell_type": "code",
   "execution_count": 27,
   "metadata": {},
   "outputs": [],
   "source": [
    "def axis_to_idx(axis):\n",
    "    if (axis == \"x\"):\n",
    "        return 0\n",
    "    if (axis == \"y\"):\n",
    "        return 1\n",
    "    if (axis == \"z\"):\n",
    "        return 2\n",
    "    return None\n",
    "\n",
    "def ideal_vec(axis, val):\n",
    "    arr = np.zeros(3)\n",
    "    arr[axis_to_idx(axis)] = val\n",
    "    return arr\n",
    "        \n",
    "def prep_fit_data(data):\n",
    "    X = []\n",
    "    y = []\n",
    "    \n",
    "    for key in data:\n",
    "        if key[0] == \"-\":\n",
    "            y.append(ideal_vec(key[1], -1))\n",
    "        if key[0] == \"+\":\n",
    "            y.append(ideal_vec(key[1], 1))\n",
    "        X.append(data[key])\n",
    "    return X, y"
   ]
  },
  {
   "cell_type": "code",
   "execution_count": 120,
   "metadata": {},
   "outputs": [
    {
     "name": "stderr",
     "output_type": "stream",
     "text": [
      "2022-07-26 11:21:54,104:root:INFO:[array([ 0.01856622, -0.0116973 ,  0.99432365]), array([-0.03777517,  0.01634295, -1.01690067]), array([ 0.99453987,  0.00569051, -0.02933165]), array([-1.00537417,  0.0015404 , -0.03978742]), array([-0.00619732, -1.00584027, -0.01612081]), array([-0.00161879,  0.99356309, -0.00426846])]\n",
      "2022-07-26 11:21:54,108:root:INFO:[array([0., 0., 1.]), array([ 0.,  0., -1.]), array([1., 0., 0.]), array([-1.,  0.,  0.]), array([ 0., -1.,  0.]), array([0., 1., 0.])]\n"
     ]
    }
   ],
   "source": [
    "X,y = prep_fit_data(cal_vecs)\n",
    "logging.info(X)\n",
    "logging.info(y)"
   ]
  },
  {
   "cell_type": "code",
   "execution_count": 121,
   "metadata": {},
   "outputs": [
    {
     "data": {
      "text/html": [
       "<style>#sk-container-id-2 {color: black;background-color: white;}#sk-container-id-2 pre{padding: 0;}#sk-container-id-2 div.sk-toggleable {background-color: white;}#sk-container-id-2 label.sk-toggleable__label {cursor: pointer;display: block;width: 100%;margin-bottom: 0;padding: 0.3em;box-sizing: border-box;text-align: center;}#sk-container-id-2 label.sk-toggleable__label-arrow:before {content: \"▸\";float: left;margin-right: 0.25em;color: #696969;}#sk-container-id-2 label.sk-toggleable__label-arrow:hover:before {color: black;}#sk-container-id-2 div.sk-estimator:hover label.sk-toggleable__label-arrow:before {color: black;}#sk-container-id-2 div.sk-toggleable__content {max-height: 0;max-width: 0;overflow: hidden;text-align: left;background-color: #f0f8ff;}#sk-container-id-2 div.sk-toggleable__content pre {margin: 0.2em;color: black;border-radius: 0.25em;background-color: #f0f8ff;}#sk-container-id-2 input.sk-toggleable__control:checked~div.sk-toggleable__content {max-height: 200px;max-width: 100%;overflow: auto;}#sk-container-id-2 input.sk-toggleable__control:checked~label.sk-toggleable__label-arrow:before {content: \"▾\";}#sk-container-id-2 div.sk-estimator input.sk-toggleable__control:checked~label.sk-toggleable__label {background-color: #d4ebff;}#sk-container-id-2 div.sk-label input.sk-toggleable__control:checked~label.sk-toggleable__label {background-color: #d4ebff;}#sk-container-id-2 input.sk-hidden--visually {border: 0;clip: rect(1px 1px 1px 1px);clip: rect(1px, 1px, 1px, 1px);height: 1px;margin: -1px;overflow: hidden;padding: 0;position: absolute;width: 1px;}#sk-container-id-2 div.sk-estimator {font-family: monospace;background-color: #f0f8ff;border: 1px dotted black;border-radius: 0.25em;box-sizing: border-box;margin-bottom: 0.5em;}#sk-container-id-2 div.sk-estimator:hover {background-color: #d4ebff;}#sk-container-id-2 div.sk-parallel-item::after {content: \"\";width: 100%;border-bottom: 1px solid gray;flex-grow: 1;}#sk-container-id-2 div.sk-label:hover label.sk-toggleable__label {background-color: #d4ebff;}#sk-container-id-2 div.sk-serial::before {content: \"\";position: absolute;border-left: 1px solid gray;box-sizing: border-box;top: 0;bottom: 0;left: 50%;z-index: 0;}#sk-container-id-2 div.sk-serial {display: flex;flex-direction: column;align-items: center;background-color: white;padding-right: 0.2em;padding-left: 0.2em;position: relative;}#sk-container-id-2 div.sk-item {position: relative;z-index: 1;}#sk-container-id-2 div.sk-parallel {display: flex;align-items: stretch;justify-content: center;background-color: white;position: relative;}#sk-container-id-2 div.sk-item::before, #sk-container-id-2 div.sk-parallel-item::before {content: \"\";position: absolute;border-left: 1px solid gray;box-sizing: border-box;top: 0;bottom: 0;left: 50%;z-index: -1;}#sk-container-id-2 div.sk-parallel-item {display: flex;flex-direction: column;z-index: 1;position: relative;background-color: white;}#sk-container-id-2 div.sk-parallel-item:first-child::after {align-self: flex-end;width: 50%;}#sk-container-id-2 div.sk-parallel-item:last-child::after {align-self: flex-start;width: 50%;}#sk-container-id-2 div.sk-parallel-item:only-child::after {width: 0;}#sk-container-id-2 div.sk-dashed-wrapped {border: 1px dashed gray;margin: 0 0.4em 0.5em 0.4em;box-sizing: border-box;padding-bottom: 0.4em;background-color: white;}#sk-container-id-2 div.sk-label label {font-family: monospace;font-weight: bold;display: inline-block;line-height: 1.2em;}#sk-container-id-2 div.sk-label-container {text-align: center;}#sk-container-id-2 div.sk-container {/* jupyter's `normalize.less` sets `[hidden] { display: none; }` but bootstrap.min.css set `[hidden] { display: none !important; }` so we also need the `!important` here to be able to override the default hidden behavior on the sphinx rendered scikit-learn.org. See: https://github.com/scikit-learn/scikit-learn/issues/21755 */display: inline-block !important;position: relative;}#sk-container-id-2 div.sk-text-repr-fallback {display: none;}</style><div id=\"sk-container-id-2\" class=\"sk-top-container\"><div class=\"sk-text-repr-fallback\"><pre>LinearRegression()</pre><b>In a Jupyter environment, please rerun this cell to show the HTML representation or trust the notebook. <br />On GitHub, the HTML representation is unable to render, please try loading this page with nbviewer.org.</b></div><div class=\"sk-container\" hidden><div class=\"sk-item\"><div class=\"sk-estimator sk-toggleable\"><input class=\"sk-toggleable__control sk-hidden--visually\" id=\"sk-estimator-id-2\" type=\"checkbox\" checked><label for=\"sk-estimator-id-2\" class=\"sk-toggleable__label sk-toggleable__label-arrow\">LinearRegression</label><div class=\"sk-toggleable__content\"><pre>LinearRegression()</pre></div></div></div></div></div>"
      ],
      "text/plain": [
       "LinearRegression()"
      ]
     },
     "execution_count": 121,
     "metadata": {},
     "output_type": "execute_result"
    }
   ],
   "source": [
    "mod = linear_model.LinearRegression()\n",
    "mod.fit(X, y)"
   ]
  },
  {
   "cell_type": "code",
   "execution_count": 122,
   "metadata": {},
   "outputs": [
    {
     "data": {
      "text/plain": [
       "array([[ 1.00017503, -0.0021071 , -0.02801951],\n",
       "       [-0.00213201,  1.00016603,  0.01409015],\n",
       "       [-0.00515688, -0.00579448,  0.99410919]])"
      ]
     },
     "execution_count": 122,
     "metadata": {},
     "output_type": "execute_result"
    }
   ],
   "source": [
    "mod.coef_"
   ]
  },
  {
   "cell_type": "code",
   "execution_count": 123,
   "metadata": {},
   "outputs": [
    {
     "data": {
      "text/plain": [
       "array([0.00578743, 0.00031655, 0.01853792])"
      ]
     },
     "execution_count": 123,
     "metadata": {},
     "output_type": "execute_result"
    }
   ],
   "source": [
    "mod.intercept_"
   ]
  },
  {
   "cell_type": "code",
   "execution_count": 126,
   "metadata": {},
   "outputs": [
    {
     "data": {
      "text/plain": [
       "array([[0.97583585, 1.01244072, 1.00169575]])"
      ]
     },
     "execution_count": 126,
     "metadata": {},
     "output_type": "execute_result"
    }
   ],
   "source": [
    "mod.predict([[1, 1, 1]])"
   ]
  },
  {
   "cell_type": "code",
   "execution_count": 15,
   "metadata": {},
   "outputs": [],
   "source": [
    "from scipy import integrate"
   ]
  },
  {
   "cell_type": "code",
   "execution_count": 18,
   "metadata": {},
   "outputs": [],
   "source": [
    "port_p = \"/dev/tty.usbmodem141201\"\n",
    "coeff_fp = \"acc_coeff.csv\"\n",
    "intercept_fp = \"acc_intercept.csv\""
   ]
  },
  {
   "cell_type": "code",
   "execution_count": 24,
   "metadata": {},
   "outputs": [
    {
     "name": "stderr",
     "output_type": "stream",
     "text": [
      "2022-08-08 14:03:24,528:root:INFO:coef: [[ 1.00103165 -0.01318028 -0.01898536]\n",
      " [-0.00395815  1.00045559  0.0141501 ]\n",
      " [ 0.01764022 -0.00476623  0.99522451]]\n",
      "2022-08-08 14:03:24,539:root:INFO:intercept: [0.00749475 0.00897139 0.01676315]\n",
      "2022-08-08 14:03:25,576:root:INFO:Starting thread 1\n"
     ]
    },
    {
     "data": {
      "image/png": "[encoded data removed]",
      "text/plain": [
       "<Figure size 864x288 with 3 Axes>"
      ]
     },
     "metadata": {
      "needs_background": "light"
     },
     "output_type": "display_data"
    },
    {
     "data": {
      "image/png": "[encoded data removed]",
      "text/plain": [
       "<Figure size 864x288 with 3 Axes>"
      ]
     },
     "metadata": {
      "needs_background": "light"
     },
     "output_type": "display_data"
    },
    {
     "data": {
      "image/png": "[encoded data removed]",
      "text/plain": [
       "<Figure size 864x288 with 3 Axes>"
      ]
     },
     "metadata": {
      "needs_background": "light"
     },
     "output_type": "display_data"
    },
    {
     "data": {
      "image/png": "[encoded data removed]",
      "text/plain": [
       "<Figure size 864x288 with 3 Axes>"
      ]
     },
     "metadata": {
      "needs_background": "light"
     },
     "output_type": "display_data"
    },
    {
     "data": {
      "image/png": "[encoded data removed]",
      "text/plain": [
       "<Figure size 864x288 with 3 Axes>"
      ]
     },
     "metadata": {
      "needs_background": "light"
     },
     "output_type": "display_data"
    },
    {
     "data": {
      "image/png": "[encoded data removed]",
      "text/plain": [
       "<Figure size 864x288 with 3 Axes>"
      ]
     },
     "metadata": {
      "needs_background": "light"
     },
     "output_type": "display_data"
    },
    {
     "data": {
      "image/png": "[encoded data removed]",
      "text/plain": [
       "<Figure size 864x288 with 3 Axes>"
      ]
     },
     "metadata": {
      "needs_background": "light"
     },
     "output_type": "display_data"
    },
    {
     "data": {
      "image/png": "[encoded data removed]",
      "text/plain": [
       "<Figure size 864x288 with 3 Axes>"
      ]
     },
     "metadata": {
      "needs_background": "light"
     },
     "output_type": "display_data"
    },
    {
     "data": {
      "image/png": "[encoded data removed]",
      "text/plain": [
       "<Figure size 864x288 with 3 Axes>"
      ]
     },
     "metadata": {
      "needs_background": "light"
     },
     "output_type": "display_data"
    },
    {
     "data": {
      "image/png": "[encoded data removed]",
      "text/plain": [
       "<Figure size 864x288 with 3 Axes>"
      ]
     },
     "metadata": {
      "needs_background": "light"
     },
     "output_type": "display_data"
    },
    {
     "data": {
      "image/png": "[encoded data removed]",
      "text/plain": [
       "<Figure size 864x288 with 3 Axes>"
      ]
     },
     "metadata": {
      "needs_background": "light"
     },
     "output_type": "display_data"
    },
    {
     "data": {
      "image/png": "[encoded data removed]",
      "text/plain": [
       "<Figure size 864x288 with 3 Axes>"
      ]
     },
     "metadata": {
      "needs_background": "light"
     },
     "output_type": "display_data"
    },
    {
     "data": {
      "image/png": "[encoded data removed]",
      "text/plain": [
       "<Figure size 864x288 with 3 Axes>"
      ]
     },
     "metadata": {
      "needs_background": "light"
     },
     "output_type": "display_data"
    },
    {
     "data": {
      "image/png": "[encoded data removed]",
      "text/plain": [
       "<Figure size 864x288 with 3 Axes>"
      ]
     },
     "metadata": {
      "needs_background": "light"
     },
     "output_type": "display_data"
    },
    {
     "data": {
      "image/png": "[encoded data removed]",
      "text/plain": [
       "<Figure size 864x288 with 3 Axes>"
      ]
     },
     "metadata": {
      "needs_background": "light"
     },
     "output_type": "display_data"
    },
    {
     "data": {
      "image/png": "[encoded data removed]",
      "text/plain": [
       "<Figure size 864x288 with 3 Axes>"
      ]
     },
     "metadata": {
      "needs_background": "light"
     },
     "output_type": "display_data"
    },
    {
     "data": {
      "image/png": "[encoded data removed]",
      "text/plain": [
       "<Figure size 864x288 with 3 Axes>"
      ]
     },
     "metadata": {
      "needs_background": "light"
     },
     "output_type": "display_data"
    },
    {
     "data": {
      "image/png": "[encoded data removed]",
      "text/plain": [
       "<Figure size 864x288 with 3 Axes>"
      ]
     },
     "metadata": {
      "needs_background": "light"
     },
     "output_type": "display_data"
    },
    {
     "data": {
      "image/png": "[encoded data removed]",
      "text/plain": [
       "<Figure size 864x288 with 3 Axes>"
      ]
     },
     "metadata": {
      "needs_background": "light"
     },
     "output_type": "display_data"
    },
    {
     "name": "stderr",
     "output_type": "stream",
     "text": [
      "2022-08-08 14:03:32,835:root:INFO:1659992612.835733\n"
     ]
    },
    {
     "data": {
      "image/png": "[encoded data removed]",
      "text/plain": [
       "<Figure size 864x288 with 3 Axes>"
      ]
     },
     "metadata": {
      "needs_background": "light"
     },
     "output_type": "display_data"
    },
    {
     "data": {
      "image/png": "[encoded data removed]",
      "text/plain": [
       "<Figure size 864x288 with 3 Axes>"
      ]
     },
     "metadata": {
      "needs_background": "light"
     },
     "output_type": "display_data"
    },
    {
     "data": {
      "image/png": "[encoded data removed]",
      "text/plain": [
       "<Figure size 864x288 with 3 Axes>"
      ]
     },
     "metadata": {
      "needs_background": "light"
     },
     "output_type": "display_data"
    },
    {
     "data": {
      "image/png": "[encoded data removed]",
      "text/plain": [
       "<Figure size 864x288 with 3 Axes>"
      ]
     },
     "metadata": {
      "needs_background": "light"
     },
     "output_type": "display_data"
    },
    {
     "data": {
      "image/png": "[encoded data removed]",
      "text/plain": [
       "<Figure size 864x288 with 3 Axes>"
      ]
     },
     "metadata": {
      "needs_background": "light"
     },
     "output_type": "display_data"
    },
    {
     "data": {
      "image/png": "[encoded data removed]",
      "text/plain": [
       "<Figure size 864x288 with 3 Axes>"
      ]
     },
     "metadata": {
      "needs_background": "light"
     },
     "output_type": "display_data"
    },
    {
     "data": {
      "image/png": "[encoded data removed]",
      "text/plain": [
       "<Figure size 864x288 with 3 Axes>"
      ]
     },
     "metadata": {
      "needs_background": "light"
     },
     "output_type": "display_data"
    },
    {
     "data": {
      "image/png": "[encoded data removed]",
      "text/plain": [
       "<Figure size 864x288 with 3 Axes>"
      ]
     },
     "metadata": {
      "needs_background": "light"
     },
     "output_type": "display_data"
    },
    {
     "data": {
      "image/png": "[encoded data removed]",
      "text/plain": [
       "<Figure size 864x288 with 3 Axes>"
      ]
     },
     "metadata": {
      "needs_background": "light"
     },
     "output_type": "display_data"
    },
    {
     "data": {
      "image/png": "[encoded data removed]",
      "text/plain": [
       "<Figure size 864x288 with 3 Axes>"
      ]
     },
     "metadata": {
      "needs_background": "light"
     },
     "output_type": "display_data"
    },
    {
     "data": {
      "image/png": "[encoded data removed]",
      "text/plain": [
       "<Figure size 864x288 with 3 Axes>"
      ]
     },
     "metadata": {
      "needs_background": "light"
     },
     "output_type": "display_data"
    },
    {
     "data": {
      "image/png": "[encoded data removed]",
      "text/plain": [
       "<Figure size 864x288 with 3 Axes>"
      ]
     },
     "metadata": {
      "needs_background": "light"
     },
     "output_type": "display_data"
    },
    {
     "data": {
      "image/png": "[encoded data removed]",
      "text/plain": [
       "<Figure size 864x288 with 3 Axes>"
      ]
     },
     "metadata": {
      "needs_background": "light"
     },
     "output_type": "display_data"
    },
    {
     "data": {
      "image/png": "[encoded data removed]",
      "text/plain": [
       "<Figure size 864x288 with 3 Axes>"
      ]
     },
     "metadata": {
      "needs_background": "light"
     },
     "output_type": "display_data"
    },
    {
     "data": {
      "image/png": "[encoded data removed]",
      "text/plain": [
       "<Figure size 864x288 with 3 Axes>"
      ]
     },
     "metadata": {
      "needs_background": "light"
     },
     "output_type": "display_data"
    },
    {
     "data": {
      "image/png": "[encoded data removed]",
      "text/plain": [
       "<Figure size 864x288 with 3 Axes>"
      ]
     },
     "metadata": {
      "needs_background": "light"
     },
     "output_type": "display_data"
    },
    {
     "data": {
      "image/png": "[encoded data removed]",
      "text/plain": [
       "<Figure size 864x288 with 3 Axes>"
      ]
     },
     "metadata": {
      "needs_background": "light"
     },
     "output_type": "display_data"
    },
    {
     "data": {
      "image/png": "[encoded data removed]",
      "text/plain": [
       "<Figure size 864x288 with 3 Axes>"
      ]
     },
     "metadata": {
      "needs_background": "light"
     },
     "output_type": "display_data"
    },
    {
     "name": "stderr",
     "output_type": "stream",
     "text": [
      "2022-08-08 14:03:41,716:root:INFO:Closing threads\n",
      "2022-08-08 14:03:41,718:root:INFO:Exiting thread 1\n",
      "2022-08-08 14:03:41,749:root:INFO:Threads successfully closed\n"
     ]
    }
   ],
   "source": [
    "coeff_ = np.loadtxt(open(coeff_fp, \"rb\"), delimiter=\",\", skiprows=0)\n",
    "intercept_ = np.loadtxt(open(intercept_fp, \"rb\"), delimiter=\",\", skiprows=0)\n",
    "logging.info(\"coef: {}\".format(coeff_))\n",
    "logging.info(\"intercept: {}\".format(intercept_))\n",
    "\n",
    "df = data_input_main(port_p, plot_accelerometer, period=None)\n",
    "acc_arr = df.loc[:,[\"xAcc\", \"yAcc\", \"zAcc\"]].to_numpy()\n",
    "\n",
    "x = df.loc[:,\"time\"].to_numpy()"
   ]
  },
  {
   "cell_type": "code",
   "execution_count": null,
   "metadata": {},
   "outputs": [],
   "source": []
  },
  {
   "cell_type": "code",
   "execution_count": 28,
   "metadata": {},
   "outputs": [
    {
     "data": {
      "text/plain": [
       "0.009149432656257537"
      ]
     },
     "execution_count": 28,
     "metadata": {},
     "output_type": "execute_result"
    }
   ],
   "source": [
    "mod = linear_model.LinearRegression()\n",
    "mod.coef_ = coeff_\n",
    "mod.intercept_ = intercept_\n",
    "\n",
    "y_hat = mod.predict(acc_arr)\n",
    "np.average(y_hat[:,0])"
   ]
  },
  {
   "cell_type": "code",
   "execution_count": 29,
   "metadata": {},
   "outputs": [],
   "source": [
    "x = (x-x[0])/1000"
   ]
  },
  {
   "cell_type": "code",
   "execution_count": 31,
   "metadata": {},
   "outputs": [],
   "source": [
    "delta_v = integrate.cumtrapz(9.8 * y_hat[:,0], x)\n"
   ]
  },
  {
   "cell_type": "code",
   "execution_count": 32,
   "metadata": {},
   "outputs": [
    {
     "data": {
      "text/plain": [
       "<matplotlib.collections.PathCollection at 0x7f7fb1fe0790>"
      ]
     },
     "execution_count": 32,
     "metadata": {},
     "output_type": "execute_result"
    },
    {
     "data": {
      "image/png": "[encoded data removed]",
      "text/plain": [
       "<Figure size 432x288 with 1 Axes>"
      ]
     },
     "metadata": {
      "needs_background": "light"
     },
     "output_type": "display_data"
    }
   ],
   "source": [
    "plt.scatter(x[1:], delta_v)"
   ]
  },
  {
   "cell_type": "code",
   "execution_count": 36,
   "metadata": {},
   "outputs": [
    {
     "data": {
      "text/plain": [
       "(365,)"
      ]
     },
     "execution_count": 36,
     "metadata": {},
     "output_type": "execute_result"
    }
   ],
   "source": [
    "delta_x = integrate.cumtrapz(delta_v, x[1:])\n",
    "delta_x[-1]\n",
    "x.shape"
   ]
  },
  {
   "cell_type": "code",
   "execution_count": 37,
   "metadata": {},
   "outputs": [
    {
     "data": {
      "text/plain": [
       "<matplotlib.collections.PathCollection at 0x7f7fb42d1e10>"
      ]
     },
     "execution_count": 37,
     "metadata": {},
     "output_type": "execute_result"
    },
    {
     "data": {
      "image/png": "[encoded data removed]",
      "text/plain": [
       "<Figure size 432x288 with 1 Axes>"
      ]
     },
     "metadata": {
      "needs_background": "light"
     },
     "output_type": "display_data"
    }
   ],
   "source": [
    "plt.scatter(x[2:],delta_x)"
   ]
  },
  {
   "cell_type": "markdown",
   "metadata": {},
   "source": [
    "Storing and sending calibration coefficients to fin"
   ]
  },
  {
   "cell_type": "code",
   "execution_count": 2,
   "metadata": {},
   "outputs": [],
   "source": [
    "test_num = 5.42908729374"
   ]
  },
  {
   "cell_type": "code",
   "execution_count": 3,
   "metadata": {},
   "outputs": [],
   "source": [
    "import struct\n",
    "def float_to_bin(num):\n",
    "    return format(struct.unpack('!I', struct.pack('!f', num))[0], '032b')\n",
    "\n",
    "def bin_to_float(binary):\n",
    "    return struct.unpack('!f',struct.pack('!I', int(binary, 2)))[0]"
   ]
  },
  {
   "cell_type": "code",
   "execution_count": null,
   "metadata": {},
   "outputs": [],
   "source": []
  },
  {
   "cell_type": "code",
   "execution_count": 17,
   "metadata": {},
   "outputs": [
    {
     "data": {
      "text/plain": [
       "'01000000101011011011101100010101'"
      ]
     },
     "execution_count": 17,
     "metadata": {},
     "output_type": "execute_result"
    }
   ],
   "source": [
    "bin_str = float_to_bin(test_num)\n",
    "bin_str"
   ]
  },
  {
   "cell_type": "code",
   "execution_count": 18,
   "metadata": {},
   "outputs": [
    {
     "data": {
      "text/plain": [
       "1085127445"
      ]
     },
     "execution_count": 18,
     "metadata": {},
     "output_type": "execute_result"
    }
   ],
   "source": [
    "uint32 = int(bin_str, 2)\n",
    "uint32"
   ]
  },
  {
   "cell_type": "code",
   "execution_count": 19,
   "metadata": {},
   "outputs": [
    {
     "data": {
      "text/plain": [
       "True"
      ]
     },
     "execution_count": 19,
     "metadata": {},
     "output_type": "execute_result"
    }
   ],
   "source": [
    "bin_str == (bin(uint32)[2:]).zfill(32)"
   ]
  },
  {
   "cell_type": "code",
   "execution_count": 5,
   "metadata": {},
   "outputs": [],
   "source": [
    "import pandas as pd\n",
    "import numpy as np\n",
    "from argparse import ArgumentParser\n",
    "import json\n",
    "import ctypes\n",
    "\n",
    "from sklearn import linear_model\n",
    "from scipy import integrate\n",
    "import matplotlib.pyplot as plt\n",
    "\n",
    "from cli_util import drop_into_cli\n",
    "\n",
    "from calibrate_util import *\n",
    "\n",
    "import logging\n",
    "logging_fmt = '%(asctime)s:%(name)s:%(levelname)s:%(message)s'\n",
    "logging.basicConfig(level=logging.INFO, format=logging_fmt)\n",
    "\n",
    "axii = [\"+x\", \"-x\", \"+y\", \"-y\", \"+z\", \"-z\"]\n",
    "CAL_PERIOD = 10\n",
    "CAL_VAL_FREQ = 5\n",
    "\n",
    "ACC_COLS = [\"xAcc\", \"yAcc\", \"zAcc\"]\n",
    "GYRO_COLS = [\"xAng\", \"yAng\", \"zAng\"]\n",
    "MAG_COLS = [\"xMag\", \"yMag\", \"zMag\"]\n",
    "\n",
    "ACC_COLS_SI = [\"X Acceleration\", \"Y Acceleration\", \"Z Acceleration\"]\n",
    "GYRO_COLS_SI = [\"X Angular Velocity\", \"Y Angular Velocity\", \"Z Angular Velocity\"]\n",
    "MAG_COLS_SI = [\"X Angular Velocity\", \"Y Angular Velocity\", \"Z Angular Velocity\"]\n",
    "THERMAL_COLS_SI = [\"Temperature\"]\n",
    "\n",
    "THERMAL_COLS = [\"temp\"]\n",
    "\n",
    "SENSORS = {\"acc\": ACC_COLS_SI, \"mag\": MAG_COLS_SI, \"thermal\": THERMAL_COLS_SI}\n",
    "\n",
    "CAL_COEFFS = [\"gyro_intercept\", \"acc_coeff\", \"acc_intercept\", \"mag_coeff\", \"mag_intercept\", \"thermal_coeff\", \"thermal_intercept\"]"
   ]
  },
  {
   "cell_type": "code",
   "execution_count": 6,
   "metadata": {},
   "outputs": [],
   "source": [
    "def apply_cal(input_dir, df_data):\n",
    "    cal_data_dict = load_cal(input_dir)\n",
    "    apply_cal_sensor(\"acc\", SENSORS[\"acc\"], cal_data_dict, df_data)\n",
    "    \n",
    "def apply_cal_sensor(sensor_name, sensor_cols, cal_data_dict, df_data):\n",
    "    coeff_key = \"{}_coeff\".format(sensor_name)\n",
    "    intercept_key = \"{}_intercept\".format(sensor_name)\n",
    "    if coeff_key not in cal_data_dict and intercept_key not in cal_data_dict:\n",
    "        return None\n",
    "    \n",
    "    mod = linear_model.LinearRegression()\n",
    "    mod.coef_ = csv_str_to_arr(cal_data_dict[coeff_key])\n",
    "    mod.intercept_ = csv_str_to_arr(cal_data_dict[intercept_key]).flatten() #might not work because all arrays are 2D\n",
    "    \n",
    "    np_uncal_data = df_data.loc[:,sensor_cols].to_numpy()\n",
    "    logging.info(np_uncal_data)\n",
    "    \n",
    "    logging.info(\"calibrated data shape: {}\".format(np_cal_data.shape))\n",
    "    logging.info(\"calibrated data: {}\".format(np_cal_data))"
   ]
  },
  {
   "cell_type": "code",
   "execution_count": 62,
   "metadata": {},
   "outputs": [
    {
     "data": {
      "text/html": [
       "<div>\n",
       "<style scoped>\n",
       "    .dataframe tbody tr th:only-of-type {\n",
       "        vertical-align: middle;\n",
       "    }\n",
       "\n",
       "    .dataframe tbody tr th {\n",
       "        vertical-align: top;\n",
       "    }\n",
       "\n",
       "    .dataframe thead th {\n",
       "        text-align: right;\n",
       "    }\n",
       "</style>\n",
       "<table border=\"1\" class=\"dataframe\">\n",
       "  <thead>\n",
       "    <tr style=\"text-align: right;\">\n",
       "      <th></th>\n",
       "      <th>temp+water</th>\n",
       "      <th>xAcc</th>\n",
       "      <th>yAcc</th>\n",
       "      <th>zAcc</th>\n",
       "      <th>xGyro</th>\n",
       "      <th>yGyro</th>\n",
       "      <th>zGyro</th>\n",
       "      <th>xMag</th>\n",
       "      <th>yMag</th>\n",
       "      <th>zMag</th>\n",
       "      <th>...</th>\n",
       "      <th>Water Detect</th>\n",
       "      <th>X Acceleration</th>\n",
       "      <th>Y Acceleration</th>\n",
       "      <th>Z Acceleration</th>\n",
       "      <th>X Angular Velocity</th>\n",
       "      <th>Y Angular Velocity</th>\n",
       "      <th>Z Angular Velocity</th>\n",
       "      <th>X Magnetic Field</th>\n",
       "      <th>Y Magnetic Field</th>\n",
       "      <th>Z Magnetic Field</th>\n",
       "    </tr>\n",
       "  </thead>\n",
       "  <tbody>\n",
       "    <tr>\n",
       "      <th>0</th>\n",
       "      <td>2779.0</td>\n",
       "      <td>-1892.0</td>\n",
       "      <td>18328.0</td>\n",
       "      <td>-164.0</td>\n",
       "      <td>-955.0</td>\n",
       "      <td>1649.0</td>\n",
       "      <td>1315.0</td>\n",
       "      <td>28160.0</td>\n",
       "      <td>25088.0</td>\n",
       "      <td>-27906.0</td>\n",
       "      <td>...</td>\n",
       "      <td>True</td>\n",
       "      <td>-0.115479</td>\n",
       "      <td>1.118652</td>\n",
       "      <td>-0.010010</td>\n",
       "      <td>-7.286072</td>\n",
       "      <td>12.580872</td>\n",
       "      <td>10.032654</td>\n",
       "      <td>4224.0</td>\n",
       "      <td>3763.2</td>\n",
       "      <td>-4185.9</td>\n",
       "    </tr>\n",
       "    <tr>\n",
       "      <th>1</th>\n",
       "      <td>NaN</td>\n",
       "      <td>NaN</td>\n",
       "      <td>NaN</td>\n",
       "      <td>NaN</td>\n",
       "      <td>NaN</td>\n",
       "      <td>NaN</td>\n",
       "      <td>NaN</td>\n",
       "      <td>NaN</td>\n",
       "      <td>NaN</td>\n",
       "      <td>NaN</td>\n",
       "      <td>...</td>\n",
       "      <td>NaN</td>\n",
       "      <td>NaN</td>\n",
       "      <td>NaN</td>\n",
       "      <td>NaN</td>\n",
       "      <td>NaN</td>\n",
       "      <td>NaN</td>\n",
       "      <td>NaN</td>\n",
       "      <td>NaN</td>\n",
       "      <td>NaN</td>\n",
       "      <td>NaN</td>\n",
       "    </tr>\n",
       "    <tr>\n",
       "      <th>2</th>\n",
       "      <td>2779.0</td>\n",
       "      <td>NaN</td>\n",
       "      <td>NaN</td>\n",
       "      <td>NaN</td>\n",
       "      <td>NaN</td>\n",
       "      <td>NaN</td>\n",
       "      <td>NaN</td>\n",
       "      <td>NaN</td>\n",
       "      <td>NaN</td>\n",
       "      <td>NaN</td>\n",
       "      <td>...</td>\n",
       "      <td>True</td>\n",
       "      <td>NaN</td>\n",
       "      <td>NaN</td>\n",
       "      <td>NaN</td>\n",
       "      <td>NaN</td>\n",
       "      <td>NaN</td>\n",
       "      <td>NaN</td>\n",
       "      <td>NaN</td>\n",
       "      <td>NaN</td>\n",
       "      <td>NaN</td>\n",
       "    </tr>\n",
       "    <tr>\n",
       "      <th>3</th>\n",
       "      <td>NaN</td>\n",
       "      <td>NaN</td>\n",
       "      <td>NaN</td>\n",
       "      <td>NaN</td>\n",
       "      <td>NaN</td>\n",
       "      <td>NaN</td>\n",
       "      <td>NaN</td>\n",
       "      <td>NaN</td>\n",
       "      <td>NaN</td>\n",
       "      <td>NaN</td>\n",
       "      <td>...</td>\n",
       "      <td>NaN</td>\n",
       "      <td>NaN</td>\n",
       "      <td>NaN</td>\n",
       "      <td>NaN</td>\n",
       "      <td>NaN</td>\n",
       "      <td>NaN</td>\n",
       "      <td>NaN</td>\n",
       "      <td>NaN</td>\n",
       "      <td>NaN</td>\n",
       "      <td>NaN</td>\n",
       "    </tr>\n",
       "    <tr>\n",
       "      <th>4</th>\n",
       "      <td>2779.0</td>\n",
       "      <td>-1724.0</td>\n",
       "      <td>18732.0</td>\n",
       "      <td>1760.0</td>\n",
       "      <td>497.0</td>\n",
       "      <td>1659.0</td>\n",
       "      <td>1174.0</td>\n",
       "      <td>23808.0</td>\n",
       "      <td>27136.0</td>\n",
       "      <td>-29186.0</td>\n",
       "      <td>...</td>\n",
       "      <td>True</td>\n",
       "      <td>-0.105225</td>\n",
       "      <td>1.143311</td>\n",
       "      <td>0.107422</td>\n",
       "      <td>3.791809</td>\n",
       "      <td>12.657166</td>\n",
       "      <td>8.956909</td>\n",
       "      <td>3571.2</td>\n",
       "      <td>4070.4</td>\n",
       "      <td>-4377.9</td>\n",
       "    </tr>\n",
       "    <tr>\n",
       "      <th>...</th>\n",
       "      <td>...</td>\n",
       "      <td>...</td>\n",
       "      <td>...</td>\n",
       "      <td>...</td>\n",
       "      <td>...</td>\n",
       "      <td>...</td>\n",
       "      <td>...</td>\n",
       "      <td>...</td>\n",
       "      <td>...</td>\n",
       "      <td>...</td>\n",
       "      <td>...</td>\n",
       "      <td>...</td>\n",
       "      <td>...</td>\n",
       "      <td>...</td>\n",
       "      <td>...</td>\n",
       "      <td>...</td>\n",
       "      <td>...</td>\n",
       "      <td>...</td>\n",
       "      <td>...</td>\n",
       "      <td>...</td>\n",
       "      <td>...</td>\n",
       "    </tr>\n",
       "    <tr>\n",
       "      <th>1848</th>\n",
       "      <td>0.0</td>\n",
       "      <td>2136.0</td>\n",
       "      <td>-16044.0</td>\n",
       "      <td>-2196.0</td>\n",
       "      <td>184.0</td>\n",
       "      <td>12.0</td>\n",
       "      <td>47.0</td>\n",
       "      <td>-10496.0</td>\n",
       "      <td>21758.0</td>\n",
       "      <td>-6658.0</td>\n",
       "      <td>...</td>\n",
       "      <td>True</td>\n",
       "      <td>0.130371</td>\n",
       "      <td>-0.979248</td>\n",
       "      <td>-0.134033</td>\n",
       "      <td>1.403809</td>\n",
       "      <td>0.091553</td>\n",
       "      <td>0.358582</td>\n",
       "      <td>-1574.4</td>\n",
       "      <td>3263.7</td>\n",
       "      <td>-998.7</td>\n",
       "    </tr>\n",
       "    <tr>\n",
       "      <th>1849</th>\n",
       "      <td>0.0</td>\n",
       "      <td>2064.0</td>\n",
       "      <td>-16040.0</td>\n",
       "      <td>-2228.0</td>\n",
       "      <td>168.0</td>\n",
       "      <td>45.0</td>\n",
       "      <td>61.0</td>\n",
       "      <td>-12032.0</td>\n",
       "      <td>19454.0</td>\n",
       "      <td>-8194.0</td>\n",
       "      <td>...</td>\n",
       "      <td>True</td>\n",
       "      <td>0.125977</td>\n",
       "      <td>-0.979004</td>\n",
       "      <td>-0.135986</td>\n",
       "      <td>1.281738</td>\n",
       "      <td>0.343323</td>\n",
       "      <td>0.465393</td>\n",
       "      <td>-1804.8</td>\n",
       "      <td>2918.1</td>\n",
       "      <td>-1229.1</td>\n",
       "    </tr>\n",
       "    <tr>\n",
       "      <th>1850</th>\n",
       "      <td>0.0</td>\n",
       "      <td>1960.0</td>\n",
       "      <td>-15828.0</td>\n",
       "      <td>-2324.0</td>\n",
       "      <td>366.0</td>\n",
       "      <td>213.0</td>\n",
       "      <td>39.0</td>\n",
       "      <td>-13312.0</td>\n",
       "      <td>22526.0</td>\n",
       "      <td>-7170.0</td>\n",
       "      <td>...</td>\n",
       "      <td>True</td>\n",
       "      <td>0.119629</td>\n",
       "      <td>-0.966064</td>\n",
       "      <td>-0.141846</td>\n",
       "      <td>2.792358</td>\n",
       "      <td>1.625061</td>\n",
       "      <td>0.297546</td>\n",
       "      <td>-1996.8</td>\n",
       "      <td>3378.9</td>\n",
       "      <td>-1075.5</td>\n",
       "    </tr>\n",
       "    <tr>\n",
       "      <th>1851</th>\n",
       "      <td>NaN</td>\n",
       "      <td>NaN</td>\n",
       "      <td>NaN</td>\n",
       "      <td>NaN</td>\n",
       "      <td>NaN</td>\n",
       "      <td>NaN</td>\n",
       "      <td>NaN</td>\n",
       "      <td>NaN</td>\n",
       "      <td>NaN</td>\n",
       "      <td>NaN</td>\n",
       "      <td>...</td>\n",
       "      <td>NaN</td>\n",
       "      <td>NaN</td>\n",
       "      <td>NaN</td>\n",
       "      <td>NaN</td>\n",
       "      <td>NaN</td>\n",
       "      <td>NaN</td>\n",
       "      <td>NaN</td>\n",
       "      <td>NaN</td>\n",
       "      <td>NaN</td>\n",
       "      <td>NaN</td>\n",
       "    </tr>\n",
       "    <tr>\n",
       "      <th>1852</th>\n",
       "      <td>0.0</td>\n",
       "      <td>2028.0</td>\n",
       "      <td>-15972.0</td>\n",
       "      <td>-2232.0</td>\n",
       "      <td>156.0</td>\n",
       "      <td>61.0</td>\n",
       "      <td>14.0</td>\n",
       "      <td>-9472.0</td>\n",
       "      <td>20734.0</td>\n",
       "      <td>-7682.0</td>\n",
       "      <td>...</td>\n",
       "      <td>True</td>\n",
       "      <td>0.123779</td>\n",
       "      <td>-0.974854</td>\n",
       "      <td>-0.136230</td>\n",
       "      <td>1.190186</td>\n",
       "      <td>0.465393</td>\n",
       "      <td>0.106812</td>\n",
       "      <td>-1420.8</td>\n",
       "      <td>3110.1</td>\n",
       "      <td>-1152.3</td>\n",
       "    </tr>\n",
       "  </tbody>\n",
       "</table>\n",
       "<p>1853 rows × 26 columns</p>\n",
       "</div>"
      ],
      "text/plain": [
       "      temp+water    xAcc     yAcc    zAcc  xGyro   yGyro   zGyro     xMag  \\\n",
       "0         2779.0 -1892.0  18328.0  -164.0 -955.0  1649.0  1315.0  28160.0   \n",
       "1            NaN     NaN      NaN     NaN    NaN     NaN     NaN      NaN   \n",
       "2         2779.0     NaN      NaN     NaN    NaN     NaN     NaN      NaN   \n",
       "3            NaN     NaN      NaN     NaN    NaN     NaN     NaN      NaN   \n",
       "4         2779.0 -1724.0  18732.0  1760.0  497.0  1659.0  1174.0  23808.0   \n",
       "...          ...     ...      ...     ...    ...     ...     ...      ...   \n",
       "1848         0.0  2136.0 -16044.0 -2196.0  184.0    12.0    47.0 -10496.0   \n",
       "1849         0.0  2064.0 -16040.0 -2228.0  168.0    45.0    61.0 -12032.0   \n",
       "1850         0.0  1960.0 -15828.0 -2324.0  366.0   213.0    39.0 -13312.0   \n",
       "1851         NaN     NaN      NaN     NaN    NaN     NaN     NaN      NaN   \n",
       "1852         0.0  2028.0 -15972.0 -2232.0  156.0    61.0    14.0  -9472.0   \n",
       "\n",
       "         yMag     zMag  ...  Water Detect  X Acceleration  Y Acceleration  \\\n",
       "0     25088.0 -27906.0  ...          True       -0.115479        1.118652   \n",
       "1         NaN      NaN  ...           NaN             NaN             NaN   \n",
       "2         NaN      NaN  ...          True             NaN             NaN   \n",
       "3         NaN      NaN  ...           NaN             NaN             NaN   \n",
       "4     27136.0 -29186.0  ...          True       -0.105225        1.143311   \n",
       "...       ...      ...  ...           ...             ...             ...   \n",
       "1848  21758.0  -6658.0  ...          True        0.130371       -0.979248   \n",
       "1849  19454.0  -8194.0  ...          True        0.125977       -0.979004   \n",
       "1850  22526.0  -7170.0  ...          True        0.119629       -0.966064   \n",
       "1851      NaN      NaN  ...           NaN             NaN             NaN   \n",
       "1852  20734.0  -7682.0  ...          True        0.123779       -0.974854   \n",
       "\n",
       "      Z Acceleration X Angular Velocity  Y Angular Velocity  \\\n",
       "0          -0.010010          -7.286072           12.580872   \n",
       "1                NaN                NaN                 NaN   \n",
       "2                NaN                NaN                 NaN   \n",
       "3                NaN                NaN                 NaN   \n",
       "4           0.107422           3.791809           12.657166   \n",
       "...              ...                ...                 ...   \n",
       "1848       -0.134033           1.403809            0.091553   \n",
       "1849       -0.135986           1.281738            0.343323   \n",
       "1850       -0.141846           2.792358            1.625061   \n",
       "1851             NaN                NaN                 NaN   \n",
       "1852       -0.136230           1.190186            0.465393   \n",
       "\n",
       "     Z Angular Velocity  X Magnetic Field  Y Magnetic Field  Z Magnetic Field  \n",
       "0             10.032654            4224.0            3763.2           -4185.9  \n",
       "1                   NaN               NaN               NaN               NaN  \n",
       "2                   NaN               NaN               NaN               NaN  \n",
       "3                   NaN               NaN               NaN               NaN  \n",
       "4              8.956909            3571.2            4070.4           -4377.9  \n",
       "...                 ...               ...               ...               ...  \n",
       "1848           0.358582           -1574.4            3263.7            -998.7  \n",
       "1849           0.465393           -1804.8            2918.1           -1229.1  \n",
       "1850           0.297546           -1996.8            3378.9           -1075.5  \n",
       "1851                NaN               NaN               NaN               NaN  \n",
       "1852           0.106812           -1420.8            3110.1           -1152.3  \n",
       "\n",
       "[1853 rows x 26 columns]"
      ]
     },
     "execution_count": 62,
     "metadata": {},
     "output_type": "execute_result"
    }
   ],
   "source": [
    "df = pd.read_csv(\"_200047001750483553353920-20220728-201824-session-data.csv\")\n",
    "#apply_cal(\"calibrations.json\", df)\n",
    "df"
   ]
  },
  {
   "cell_type": "code",
   "execution_count": 25,
   "metadata": {},
   "outputs": [],
   "source": [
    "cal_dict = load_cal(\"calibrations.json\")\n",
    "sensor_name = \"acc\"\n",
    "sensor_cols = SENSORS[\"acc\"]\n",
    "\n",
    "coeff_key = \"{}_coeff\".format(sensor_name)\n",
    "intercept_key = \"{}_intercept\".format(sensor_name)\n",
    "\n",
    "coeff = csv_str_to_arr(cal_dict[coeff_key])\n",
    "intercept = csv_str_to_arr(cal_dict[intercept_key]).flatten()"
   ]
  },
  {
   "cell_type": "code",
   "execution_count": 26,
   "metadata": {},
   "outputs": [],
   "source": [
    "mod = linear_model.LinearRegression()\n",
    "mod.coef_ = coeff\n",
    "mod.intercept_ = intercept"
   ]
  },
  {
   "cell_type": "code",
   "execution_count": 54,
   "metadata": {},
   "outputs": [
    {
     "data": {
      "text/plain": [
       "1682"
      ]
     },
     "execution_count": 54,
     "metadata": {},
     "output_type": "execute_result"
    }
   ],
   "source": [
    "msk = ~df.loc[:,sensor_cols].isna().any(axis=1)\n",
    "msk.sum()"
   ]
  },
  {
   "cell_type": "code",
   "execution_count": 61,
   "metadata": {},
   "outputs": [
    {
     "name": "stderr",
     "output_type": "stream",
     "text": [
      "/Users/allenyang/opt/anaconda3/envs/smartfin/lib/python3.10/site-packages/sklearn/base.py:443: UserWarning: X has feature names, but LinearRegression was fitted without feature names\n",
      "  warnings.warn(\n"
     ]
    },
    {
     "data": {
      "text/plain": [
       "array([[-1.22657011e-01,  1.12844882e+00, -5.67634871e-04],\n",
       "       [            nan,             nan,             nan],\n",
       "       [            nan,             nan,             nan],\n",
       "       ...,\n",
       "       [ 1.42673063e-01, -9.60013832e-01, -1.17690405e-01],\n",
       "       [            nan,             nan,             nan],\n",
       "       [ 1.46836971e-01, -9.68743871e-01, -1.11986881e-01]])"
      ]
     },
     "execution_count": 61,
     "metadata": {},
     "output_type": "execute_result"
    }
   ],
   "source": [
    "yhat = np.full(df.loc[:,sensor_cols].shape, np.nan)\n",
    "pred = pd.DataFrame(mod.predict(df.loc[:,sensor_cols][msk]))\n",
    "yhat[msk.astype(bool), ...] = pred\n",
    "yhat"
   ]
  },
  {
   "cell_type": "code",
   "execution_count": 58,
   "metadata": {},
   "outputs": [
    {
     "name": "stderr",
     "output_type": "stream",
     "text": [
      "/Users/allenyang/opt/anaconda3/envs/smartfin/lib/python3.10/site-packages/sklearn/base.py:443: UserWarning: X has feature names, but LinearRegression was fitted without feature names\n",
      "  warnings.warn(\n"
     ]
    },
    {
     "data": {
      "text/html": [
       "<div>\n",
       "<style scoped>\n",
       "    .dataframe tbody tr th:only-of-type {\n",
       "        vertical-align: middle;\n",
       "    }\n",
       "\n",
       "    .dataframe tbody tr th {\n",
       "        vertical-align: top;\n",
       "    }\n",
       "\n",
       "    .dataframe thead th {\n",
       "        text-align: right;\n",
       "    }\n",
       "</style>\n",
       "<table border=\"1\" class=\"dataframe\">\n",
       "  <thead>\n",
       "    <tr style=\"text-align: right;\">\n",
       "      <th></th>\n",
       "      <th>0</th>\n",
       "      <th>1</th>\n",
       "      <th>2</th>\n",
       "    </tr>\n",
       "  </thead>\n",
       "  <tbody>\n",
       "    <tr>\n",
       "      <th>0</th>\n",
       "      <td>-0.122657</td>\n",
       "      <td>1.128449</td>\n",
       "      <td>-0.000568</td>\n",
       "    </tr>\n",
       "    <tr>\n",
       "      <th>1</th>\n",
       "      <td>-0.114947</td>\n",
       "      <td>1.154739</td>\n",
       "      <td>0.116367</td>\n",
       "    </tr>\n",
       "    <tr>\n",
       "      <th>2</th>\n",
       "      <td>-0.096855</td>\n",
       "      <td>0.943892</td>\n",
       "      <td>-0.020424</td>\n",
       "    </tr>\n",
       "    <tr>\n",
       "      <th>3</th>\n",
       "      <td>-0.145106</td>\n",
       "      <td>1.043198</td>\n",
       "      <td>0.044149</td>\n",
       "    </tr>\n",
       "    <tr>\n",
       "      <th>4</th>\n",
       "      <td>0.040068</td>\n",
       "      <td>0.972629</td>\n",
       "      <td>-0.106622</td>\n",
       "    </tr>\n",
       "    <tr>\n",
       "      <th>...</th>\n",
       "      <td>...</td>\n",
       "      <td>...</td>\n",
       "      <td>...</td>\n",
       "    </tr>\n",
       "    <tr>\n",
       "      <th>1677</th>\n",
       "      <td>0.148879</td>\n",
       "      <td>-0.810770</td>\n",
       "      <td>0.057240</td>\n",
       "    </tr>\n",
       "    <tr>\n",
       "      <th>1678</th>\n",
       "      <td>0.153452</td>\n",
       "      <td>-0.973135</td>\n",
       "      <td>-0.109663</td>\n",
       "    </tr>\n",
       "    <tr>\n",
       "      <th>1679</th>\n",
       "      <td>0.149087</td>\n",
       "      <td>-0.972901</td>\n",
       "      <td>-0.111685</td>\n",
       "    </tr>\n",
       "    <tr>\n",
       "      <th>1680</th>\n",
       "      <td>0.142673</td>\n",
       "      <td>-0.960014</td>\n",
       "      <td>-0.117690</td>\n",
       "    </tr>\n",
       "    <tr>\n",
       "      <th>1681</th>\n",
       "      <td>0.146837</td>\n",
       "      <td>-0.968744</td>\n",
       "      <td>-0.111987</td>\n",
       "    </tr>\n",
       "  </tbody>\n",
       "</table>\n",
       "<p>1682 rows × 3 columns</p>\n",
       "</div>"
      ],
      "text/plain": [
       "             0         1         2\n",
       "0    -0.122657  1.128449 -0.000568\n",
       "1    -0.114947  1.154739  0.116367\n",
       "2    -0.096855  0.943892 -0.020424\n",
       "3    -0.145106  1.043198  0.044149\n",
       "4     0.040068  0.972629 -0.106622\n",
       "...        ...       ...       ...\n",
       "1677  0.148879 -0.810770  0.057240\n",
       "1678  0.153452 -0.973135 -0.109663\n",
       "1679  0.149087 -0.972901 -0.111685\n",
       "1680  0.142673 -0.960014 -0.117690\n",
       "1681  0.146837 -0.968744 -0.111987\n",
       "\n",
       "[1682 rows x 3 columns]"
      ]
     },
     "execution_count": 58,
     "metadata": {},
     "output_type": "execute_result"
    }
   ],
   "source": [
    "pd.DataFrame(mod.predict(df.loc[:,sensor_cols].dropna()))\n"
   ]
  },
  {
   "cell_type": "code",
   "execution_count": 71,
   "metadata": {},
   "outputs": [],
   "source": [
    "import decoder as scd\n",
    "\n",
    "ensembles = []\n",
    "with open(\"2f0019000f47373333353132-000000_temp_00.sfr\", 'r') as sfr:\n",
    "    for record in sfr:\n",
    "        ensembles.extend(scd.decodeRecord(record.strip()))\n",
    "        \n",
    "df = pd.DataFrame(ensembles)"
   ]
  },
  {
   "cell_type": "code",
   "execution_count": 72,
   "metadata": {},
   "outputs": [
    {
     "data": {
      "text/html": [
       "<div>\n",
       "<style scoped>\n",
       "    .dataframe tbody tr th:only-of-type {\n",
       "        vertical-align: middle;\n",
       "    }\n",
       "\n",
       "    .dataframe tbody tr th {\n",
       "        vertical-align: top;\n",
       "    }\n",
       "\n",
       "    .dataframe thead th {\n",
       "        text-align: right;\n",
       "    }\n",
       "</style>\n",
       "<table border=\"1\" class=\"dataframe\">\n",
       "  <thead>\n",
       "    <tr style=\"text-align: right;\">\n",
       "      <th></th>\n",
       "      <th>temp+water</th>\n",
       "      <th>xAcc</th>\n",
       "      <th>yAcc</th>\n",
       "      <th>zAcc</th>\n",
       "      <th>xGyro</th>\n",
       "      <th>yGyro</th>\n",
       "      <th>zGyro</th>\n",
       "      <th>xMag</th>\n",
       "      <th>yMag</th>\n",
       "      <th>zMag</th>\n",
       "      <th>timestamp</th>\n",
       "      <th>dataType</th>\n",
       "    </tr>\n",
       "  </thead>\n",
       "  <tbody>\n",
       "    <tr>\n",
       "      <th>0</th>\n",
       "      <td>2827</td>\n",
       "      <td>508</td>\n",
       "      <td>-240</td>\n",
       "      <td>16096</td>\n",
       "      <td>-102</td>\n",
       "      <td>19</td>\n",
       "      <td>-120</td>\n",
       "      <td>-1</td>\n",
       "      <td>-1</td>\n",
       "      <td>-1</td>\n",
       "      <td>1.3</td>\n",
       "      <td>10</td>\n",
       "    </tr>\n",
       "  </tbody>\n",
       "</table>\n",
       "</div>"
      ],
      "text/plain": [
       "   temp+water  xAcc  yAcc   zAcc  xGyro  yGyro  zGyro  xMag  yMag  zMag  \\\n",
       "0        2827   508  -240  16096   -102     19   -120    -1    -1    -1   \n",
       "\n",
       "   timestamp  dataType  \n",
       "0        1.3        10  "
      ]
     },
     "execution_count": 72,
     "metadata": {},
     "output_type": "execute_result"
    }
   ],
   "source": [
    "df"
   ]
  },
  {
   "cell_type": "code",
   "execution_count": 68,
   "metadata": {},
   "outputs": [],
   "source": [
    "from calibrate import cal_board_set"
   ]
  },
  {
   "cell_type": "code",
   "execution_count": 70,
   "metadata": {},
   "outputs": [
    {
     "name": "stderr",
     "output_type": "stream",
     "text": [
      "2022-08-12 11:27:45,549:root:INFO:[ 1.00103165 -0.01318028 -0.01898536 -0.00395815  1.00045559  0.0141501\n",
      "  0.01764022 -0.00476623  0.99522451]\n",
      "2022-08-12 11:27:45,564:root:INFO:{'gyro_intercept': [3214018847, 3190075136, 3196524531], 'acc_coeff': [1065361870, 3159880218, 3164309296, 3145839454, 1065357038, 1013437906, 1016103481, 3147574793, 1065273097], 'acc_intercept': [1005950597, 1007877309, 1015632608], 'mag_coeff': [1071168582, 3165977344, 1017557049, 3165977344, 1072198111, 1033894009, 1017557049, 1033894009, 1072992053], 'mag_intercept': [3286457279, 1126795995, 3241386306], 'thermal_coeff': [1065624950], 'thermal_intercept': [3210609964]}\n",
      "2022-08-12 11:27:45,566:root:INFO:keys: dict_keys(['gyro_intercept', 'acc_coeff', 'acc_intercept', 'mag_coeff', 'mag_intercept', 'thermal_coeff', 'thermal_intercept'])\n"
     ]
    },
    {
     "name": "stdout",
     "output_type": "stream",
     "text": [
      "~\r\n",
      "press enter to start\n",
      "\r\n",
      "gyro_intercept\n",
      "3214018847\r\n",
      "3190075136\r\n",
      "3196524531\r\n",
      "\r\n",
      "acc_coeff\n",
      "1065361870\r\n",
      "3159880218\r\n",
      "3164309296\r\n",
      "3145839454\r\n",
      "1065357038\r\n",
      "1013437906\r\n",
      "1016103481\r\n",
      "3147574793\r\n",
      "1065273097\r\n",
      "\r\n",
      "acc_intercept\n",
      "1005950597\r\n",
      "1007877309\r\n",
      "1015632608\r\n",
      "\r\n",
      "mag_coeff\n",
      "1071168582\r\n",
      "3165977344\r\n",
      "1017557049\r\n",
      "3165977344\r\n",
      "1072198111\r\n",
      "1033894009\r\n",
      "1017557049\r\n",
      "1033894009\r\n",
      "1072992053\r\n",
      "\r\n",
      "mag_intercept\n",
      "3286457279\r\n",
      "1126795995\r\n",
      "3241386306\r\n",
      "\r\n",
      "thermal_coeff\n",
      "1065624950\r\n",
      "\r\n",
      "thermal_intercept\n",
      "3210609964\r\n",
      "calibration coefficients loaded successfully\n",
      ">\r\n",
      "Unknown command\n"
     ]
    }
   ],
   "source": [
    "cal_board_set(\"/dev/tty.usbmodem141201\", \"calibrations.json\")"
   ]
  },
  {
   "cell_type": "code",
   "execution_count": null,
   "metadata": {},
   "outputs": [],
   "source": []
  }
 ],
 "metadata": {
  "kernelspec": {
   "display_name": "Python [conda env:smartfin] *",
   "language": "python",
   "name": "conda-env-smartfin-py"
  },
  "language_info": {
   "codemirror_mode": {
    "name": "ipython",
    "version": 3
   },
   "file_extension": ".py",
   "mimetype": "text/x-python",
   "name": "python",
   "nbconvert_exporter": "python",
   "pygments_lexer": "ipython3",
   "version": "3.10.4"
  }
 },
 "nbformat": 4,
 "nbformat_minor": 4
}
